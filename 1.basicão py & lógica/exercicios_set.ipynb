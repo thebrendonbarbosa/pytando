{
 "cells": [
  {
   "cell_type": "code",
   "execution_count": null,
   "metadata": {},
   "outputs": [],
   "source": [
    "# Exemplo de uso de set\n",
    "letras = set()\n",
    "\n",
    "while True:\n",
    "    letra = input('Digite uma letra: ')\n",
    "    letras.add(letra)\n",
    "\n",
    "    if 'l' in letras\n",
    "        print('Parabéns')\n",
    "        break\n",
    "\n",
    "    print(letras)"
   ]
  },
  {
   "cell_type": "markdown",
   "metadata": {},
   "source": [
    "## Exercício 1"
   ]
  },
  {
   "cell_type": "markdown",
   "metadata": {},
   "source": [
    "Crie uma função que encontra o primeiro duplicado considerando o segundo número como a duplicação. Retorne a duplicão considerada. \n",
    "\n",
    "Requisitos: \n",
    "    A ordem do número duplicado é considerada a apartir da segunda ocorrência do número, ou seja, o número duplicado em si.\n",
    "\n",
    "Exemplo:\n",
    "[1,2,3,3,2,1]-> 1,2 e 3 são duplicados (retorne 3)\n",
    "\n",
    "[1,2,3,4,5,6]-> retorne -1 (Não tem duplicados)"
   ]
  },
  {
   "cell_type": "code",
   "execution_count": 1,
   "metadata": {},
   "outputs": [
    {
     "name": "stdout",
     "output_type": "stream",
     "text": [
      "12\n"
     ]
    }
   ],
   "source": [
    "lista_de_listas_de_inteiros = [\n",
    "    [1, 2, 3, 4, 5, 6, 7, 8, 9, 10],\n",
    "    [9, 1, 8, 9, 9, 7, 2, 1, 6, 8],\n",
    "    [1, 3, 2, 2, 8, 6, 5, 9, 6, 7],\n",
    "    [3, 8, 2, 8, 6, 7, 7, 3, 1, 9],\n",
    "    [4, 8, 8, 8, 5, 1, 10, 3, 1, 7],\n",
    "    [1, 3, 7, 2, 2, 1, 5, 1, 9, 9],\n",
    "    [10, 2, 2, 1, 3, 5, 10, 5, 10, 1],\n",
    "    [1, 6, 1, 5, 1, 1, 1, 4, 7, 3],\n",
    "    [1, 3, 7, 1, 10, 5, 9, 2, 5, 7],\n",
    "    [4, 7, 6, 5, 2, 9, 2, 1, 2, 1],\n",
    "    [5, 3, 1, 8, 5, 7, 1, 8, 8, 7],\n",
    "    [10, 9, 8, 7, 6, 5, 4, 3, 2, 1],\n",
    "]\n",
    "print(len(lista_de_listas_de_inteiros))\n",
    "#def encontrar_duplicado():\n"
   ]
  },
  {
   "cell_type": "code",
   "execution_count": 2,
   "metadata": {},
   "outputs": [
    {
     "name": "stdout",
     "output_type": "stream",
     "text": [
      "[1, 2, 3, 4, 5, 6, 7, 8, 9, 10] -1\n",
      "[9, 1, 8, 9, 9, 7, 2, 1, 6, 8] 9\n",
      "[1, 3, 2, 2, 8, 6, 5, 9, 6, 7] 2\n",
      "[3, 8, 2, 8, 6, 7, 7, 3, 1, 9] 8\n",
      "[4, 8, 8, 8, 5, 1, 10, 3, 1, 7] 8\n",
      "[1, 3, 7, 2, 2, 1, 5, 1, 9, 9] 2\n",
      "[10, 2, 2, 1, 3, 5, 10, 5, 10, 1] 2\n",
      "[1, 6, 1, 5, 1, 1, 1, 4, 7, 3] 1\n",
      "[1, 3, 7, 1, 10, 5, 9, 2, 5, 7] 1\n",
      "[4, 7, 6, 5, 2, 9, 2, 1, 2, 1] 2\n",
      "[5, 3, 1, 8, 5, 7, 1, 8, 8, 7] 5\n",
      "[10, 9, 8, 7, 6, 5, 4, 3, 2, 1] -1\n"
     ]
    }
   ],
   "source": [
    "\n",
    "def encontra_primeiro_duplicado(lista_de_inteiros):\n",
    "    numeros_checados = set()\n",
    "    primeiro_duplicado = -1\n",
    "\n",
    "    for numero in lista_de_inteiros:\n",
    "        if numero in numeros_checados:\n",
    "            primeiro_duplicado = numero\n",
    "            break\n",
    "\n",
    "        numeros_checados.add(numero)\n",
    "\n",
    "    return primeiro_duplicado\n",
    "\n",
    "for lista in lista_de_listas_de_inteiros:\n",
    "    print(\n",
    "        lista, encontra_primeiro_duplicado(lista)\n",
    "    )"
   ]
  }
 ],
 "metadata": {
  "kernelspec": {
   "display_name": "Python 3",
   "language": "python",
   "name": "python3"
  },
  "language_info": {
   "codemirror_mode": {
    "name": "ipython",
    "version": 3
   },
   "file_extension": ".py",
   "mimetype": "text/x-python",
   "name": "python",
   "nbconvert_exporter": "python",
   "pygments_lexer": "ipython3",
   "version": "3.11.4"
  },
  "orig_nbformat": 4
 },
 "nbformat": 4,
 "nbformat_minor": 2
}
