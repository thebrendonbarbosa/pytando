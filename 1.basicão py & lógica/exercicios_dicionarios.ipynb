{
 "cells": [
  {
   "cell_type": "markdown",
   "metadata": {},
   "source": [
    "# Exercicios dicionários\n"
   ]
  },
  {
   "cell_type": "markdown",
   "metadata": {},
   "source": [
    "## 1 \n",
    "Crie um dicionário d e coloque nele seus dados: nome, idade, telefone,endereço.\n",
    "Usando o dicionário d criado\n",
    "anteriormente, imprima seu nome."
   ]
  },
  {
   "cell_type": "code",
   "execution_count": 1,
   "metadata": {},
   "outputs": [
    {
     "name": "stdout",
     "output_type": "stream",
     "text": [
      "Brendon\n"
     ]
    }
   ],
   "source": [
    "d = { \n",
    "    'nome': 'Brendon',\n",
    "    'idade': 25,\n",
    "    'telefone': 9400000000,\n",
    "    'endereço': 'Rua X, N 44'\n",
    "}\n",
    "\n",
    "print(d['nome'])"
   ]
  },
  {
   "cell_type": "markdown",
   "metadata": {},
   "source": [
    "## 2 • Crie um dicionário e coloque nele os\n",
    "dados fornecidos pelo usuário: nome,\n",
    "idade, telefone,endereço.\n",
    "• Também usando\n",
    "dicionario, imprima todos os\n",
    "itens do dicionário no formato chave :\n",
    "valor, ordenado pela chave"
   ]
  },
  {
   "cell_type": "code",
   "execution_count": 5,
   "metadata": {},
   "outputs": [
    {
     "name": "stdout",
     "output_type": "stream",
     "text": [
      "{'nome': 'Ana', 'idade': 44, 'telefone': 94444445500, 'endereco': 'Rua X, 44'}\n"
     ]
    }
   ],
   "source": [
    "pessoa = {}\n",
    "\n",
    "\n",
    "pessoa['nome']= input('Digite seu nome: ')\n",
    "idade = input('Digite sua idade: ')\n",
    "pessoa['idade'] = int(idade)\n",
    "telefone = input('Digite seu telefone: ')\n",
    "pessoa['telefone'] = int(telefone)\n",
    "pessoa['endereco'] = input('Digite seu endereco: ')\n",
    "\n",
    "print(pessoa)\n",
    "\n",
    "\n"
   ]
  },
  {
   "cell_type": "markdown",
   "metadata": {},
   "source": [
    "## 3 Chave-Valor Inicial: Crie um dicionário vazio e adicione três pares chave-valor representando nomes de frutas e suas quantidades."
   ]
  },
  {
   "cell_type": "code",
   "execution_count": 7,
   "metadata": {},
   "outputs": [
    {
     "name": "stdout",
     "output_type": "stream",
     "text": [
      "{'manga': 12, 'abacaxi': 4, 'laranja': 44}\n"
     ]
    }
   ],
   "source": [
    "frutas = {}\n",
    "\n",
    "frutas['manga'] = 12\n",
    "frutas['abacaxi'] = 4\n",
    "frutas['laranja'] = 44\n",
    "\n",
    "print(frutas)"
   ]
  },
  {
   "cell_type": "markdown",
   "metadata": {},
   "source": [
    "Acesso a Valores: Dado um dicionário com informações sobre livros (título, autor, ano), escreva um código para imprimir o autor de um livro específico."
   ]
  },
  {
   "cell_type": "code",
   "execution_count": 9,
   "metadata": {},
   "outputs": [
    {
     "name": "stdout",
     "output_type": "stream",
     "text": [
      "{'Título': 'A grande queda', 'Autor': 'Brandt Barsi', 'Ano': '1979'}\n",
      "Brandt Barsi\n"
     ]
    }
   ],
   "source": [
    "livros_informações = {}\n",
    "\n",
    "livros_informações['Título'] = 'A grande queda'\n",
    "livros_informações['Autor'] = 'Brandt Barsi'\n",
    "livros_informações['Ano'] = '1979'\n",
    "\n",
    "print(livros_informações)\n",
    "print(livros_informações['Autor'])"
   ]
  },
  {
   "cell_type": "markdown",
   "metadata": {},
   "source": [
    " Adicionar e Remover: Crie um dicionário que represente um carrinho de compras. Adicione três itens diferentes (nome do item e preço) e depois remova um item."
   ]
  },
  {
   "cell_type": "code",
   "execution_count": 13,
   "metadata": {},
   "outputs": [
    {
     "name": "stdout",
     "output_type": "stream",
     "text": [
      "{'Abóbora': 4.25, 'Leite': 1.55, 'Café': 14.55, 'Carne': 414.55}\n"
     ]
    }
   ],
   "source": [
    "carrinho_de_compras = {\n",
    "    'Açucar': 7.55,\n",
    "    'Abóbora': 4.25\n",
    "}\n",
    "\n",
    "# adicionando itens\n",
    "carrinho_de_compras['Leite'] = 1.55\n",
    "carrinho_de_compras['Café'] = 14.55\n",
    "carrinho_de_compras['Carne'] = 414.55\n",
    "\n",
    "\n",
    "#removendo um item:\n",
    "del carrinho_de_compras['Açucar']\n",
    "\n",
    "print(carrinho_de_compras)"
   ]
  },
  {
   "cell_type": "markdown",
   "metadata": {},
   "source": [
    "Mesclar Dicionários: Dados dois dicionários, crie um terceiro dicionário que seja a fusão dos dois. Se houver chaves em comum, some os valores correspondentes."
   ]
  },
  {
   "cell_type": "code",
   "execution_count": null,
   "metadata": {},
   "outputs": [],
   "source": [
    "times_e_estados = {\n",
    "    'Fluminense': 'RJ',\n",
    "    'Botafogo': 'RJ',\n",
    "    'Palmeiras': 'SP'\n",
    "} \n",
    "\n",
    "times_na_semi_libertadores = {\n",
    "    'Boca': 'ARG',\n",
    "    'Inter': 'RS',\n",
    "    'Palmeiras': 'SP'\n",
    "}\n",
    "\n",
    "times = {[times_e_estados],[ times_na_semi_libertadores]}\n",
    "print(times)"
   ]
  },
  {
   "cell_type": "code",
   "execution_count": 114,
   "metadata": {},
   "outputs": [
    {
     "name": "stdout",
     "output_type": "stream",
     "text": [
      "Pergunta: Quanto é 4-4?\n",
      "Opções:\n",
      "a) 0\n",
      "b) 1\n",
      "c) 2\n",
      "d) 3\n",
      "Parabéns! Voce acertou!\n",
      "Pergunta: Quanto é 4*4?\n",
      "Opções:\n",
      "a) 0\n",
      "b) 1\n",
      "c) 2\n",
      "d) 3\n",
      "Parabéns! Voce acertou!\n",
      "Pergunta: Quanto é 71-4?\n",
      "Opções:\n",
      "a) 0\n",
      "b) 1\n",
      "c) 2\n",
      "d) 3\n",
      "Voce errou!\n",
      "Você acertou 2 de 3!\n"
     ]
    }
   ],
   "source": [
    "# Sistemas de perguntas e respostas\n",
    "\n",
    "perguntas = [\n",
    "    {\n",
    "        'Pergunta': 'Quanto é 4-4?',\n",
    "        'Opções': ['1','0','2','4'],\n",
    "        'Resposta': '0'\n",
    "    },\n",
    "    {\n",
    "        'Pergunta': 'Quanto é 4*4?',\n",
    "        'Opções': ['1','16','2','4'],\n",
    "        'Resposta': '16'\n",
    "    },\n",
    "    {\n",
    "        'Pergunta': 'Quanto é 71-4?',\n",
    "        'Opções': ['1','67','2','4'],\n",
    "        'Resposta': '67'\n",
    "    },\n",
    "]\n",
    "opcoes = ['a)','b)','c)','d)']\n",
    "acertos = 0\n",
    "lista_enumerada = enumerate(perguntas)\n",
    "\n",
    "while True:\n",
    "    for i in range(len(perguntas)):\n",
    "        print('Pergunta:', perguntas[i]['Pergunta'])\n",
    "        print('Opções:')\n",
    "\n",
    "        lista_enumerada2 = enumerate(opcoes)\n",
    "        for indice, valor in lista_enumerada2:\n",
    "            print(valor,indice)\n",
    "        resposta_usuario = input('Escolha uma opção: ')\n",
    "\n",
    "        if resposta_usuario == perguntas[i]['Resposta']:\n",
    "            print('Parabéns! Voce acertou!')\n",
    "            acertos += 1\n",
    "        else:\n",
    "            print('Voce errou!')\n",
    "    print(f'Você acertou {acertos} de {len(perguntas)}!')\n",
    "    break"
   ]
  },
  {
   "cell_type": "code",
   "execution_count": null,
   "metadata": {},
   "outputs": [],
   "source": []
  },
  {
   "cell_type": "code",
   "execution_count": null,
   "metadata": {},
   "outputs": [],
   "source": []
  }
 ],
 "metadata": {
  "kernelspec": {
   "display_name": "Python 3",
   "language": "python",
   "name": "python3"
  },
  "language_info": {
   "codemirror_mode": {
    "name": "ipython",
    "version": 3
   },
   "file_extension": ".py",
   "mimetype": "text/x-python",
   "name": "python",
   "nbconvert_exporter": "python",
   "pygments_lexer": "ipython3",
   "version": "3.11.4"
  },
  "orig_nbformat": 4
 },
 "nbformat": 4,
 "nbformat_minor": 2
}
